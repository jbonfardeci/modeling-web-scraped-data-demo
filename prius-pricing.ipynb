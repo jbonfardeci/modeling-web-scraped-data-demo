{
 "cells": [
  {
   "cell_type": "markdown",
   "metadata": {},
   "source": [
    "# Demonstration for Scraping Data from a Web Page to Build a Linear Regression Model\n",
    "John Bonfardeci (jbonfardeci@rivasolutionsinc.com)\n",
    "\n",
    "10/28/2022\n",
    "\n",
    "RIVA Data Science Center of Excellence Training"
   ]
  },
  {
   "cell_type": "code",
   "execution_count": 97,
   "metadata": {},
   "outputs": [],
   "source": [
    "# Import the libraries we'll be using.\n",
    "import pandas as pd\n",
    "import seaborn as sns\n",
    "from bs4 import BeautifulSoup\n",
    "import re\n",
    "import numpy as np\n",
    "import requests"
   ]
  },
  {
   "cell_type": "code",
   "execution_count": 98,
   "metadata": {},
   "outputs": [],
   "source": [
    "def get_soup(url):\n",
    "    \"\"\"Returns a URL as a CSS-searchable BeautifulSoup object.\"\"\"\n",
    "    req = requests.get(url)\n",
    "    html = req.content.decode(encoding='utf-8')\n",
    "    return BeautifulSoup(html, 'html.parser')"
   ]
  },
  {
   "cell_type": "markdown",
   "metadata": {},
   "source": [
    "### Scrape the car prices web page."
   ]
  },
  {
   "cell_type": "code",
   "execution_count": 99,
   "metadata": {},
   "outputs": [],
   "source": [
    "url = \"https://www.kbb.com/cars-for-sale/used/hatchback/toyota/prius/bryan-tx-77802\" \\\n",
    "+\"?distance=75&bodystyle=hatch&dma=&searchRadius=75&location=&marketExtension=include\" \\\n",
    "+\"&isNewSearch=false&showAccelerateBanner=false&sortBy=derivedpriceASC&numRecords=100\"\n",
    "\n",
    "card_selector = \"div.item-card\"\n",
    "title_selector = \"h2.text-bold\"\n",
    "mileage_selector = \".item-card-specifications div ul li > span.text-bold\"\n",
    "price_selector = \"span.first-price\"\n",
    "\n",
    "soup = get_soup(url)\n",
    "cards = soup.select(card_selector)\n",
    "data = []\n",
    "for card in cards:\n",
    "    title = card.select_one(title_selector)\n",
    "    # Strip all but numbers from the title to get the year.\n",
    "    year = re.sub(r'[^0-9.]', '', title.text)\n",
    "    # Strip all but numbers from the mileage.\n",
    "    mileage = re.sub(r'[^0-9.]', '', card.select_one(mileage_selector).text)\n",
    "    the_price = card.select_one(price_selector)\n",
    "    price = None\n",
    "    # The price isn't accessible retuning None on some. Skip these for now.\n",
    "    if the_price:\n",
    "        price = re.sub(r'[^0-9.]', '', the_price.text)\n",
    "        data.append((str(year), int(mileage), int(price)))"
   ]
  },
  {
   "cell_type": "code",
   "execution_count": 88,
   "metadata": {},
   "outputs": [
    {
     "data": {
      "text/plain": [
       "[('2021', 39529, 29991),\n",
       " ('2022', 13635, 31998),\n",
       " ('2010', 216853, 5395),\n",
       " ('2008', 222135, 6500),\n",
       " ('2010', 188654, 7900),\n",
       " ('2013', 171423, 9900),\n",
       " ('2012', 106888, 10995),\n",
       " ('2010', 132364, 11995),\n",
       " ('2013', 132710, 12942),\n",
       " ('2010', 101312, 12988)]"
      ]
     },
     "execution_count": 88,
     "metadata": {},
     "output_type": "execute_result"
    }
   ],
   "source": [
    "# Preview the first 10 rows of our scraped data.\n",
    "data[:10]"
   ]
  },
  {
   "cell_type": "code",
   "execution_count": 89,
   "metadata": {},
   "outputs": [
    {
     "data": {
      "text/html": [
       "<div>\n",
       "<style scoped>\n",
       "    .dataframe tbody tr th:only-of-type {\n",
       "        vertical-align: middle;\n",
       "    }\n",
       "\n",
       "    .dataframe tbody tr th {\n",
       "        vertical-align: top;\n",
       "    }\n",
       "\n",
       "    .dataframe thead th {\n",
       "        text-align: right;\n",
       "    }\n",
       "</style>\n",
       "<table border=\"1\" class=\"dataframe\">\n",
       "  <thead>\n",
       "    <tr style=\"text-align: right;\">\n",
       "      <th></th>\n",
       "      <th>mileage</th>\n",
       "      <th>price</th>\n",
       "    </tr>\n",
       "  </thead>\n",
       "  <tbody>\n",
       "    <tr>\n",
       "      <th>count</th>\n",
       "      <td>31.000000</td>\n",
       "      <td>31.000000</td>\n",
       "    </tr>\n",
       "    <tr>\n",
       "      <th>mean</th>\n",
       "      <td>87123.483871</td>\n",
       "      <td>20553.516129</td>\n",
       "    </tr>\n",
       "    <tr>\n",
       "      <th>std</th>\n",
       "      <td>55580.829691</td>\n",
       "      <td>8737.325013</td>\n",
       "    </tr>\n",
       "    <tr>\n",
       "      <th>min</th>\n",
       "      <td>13635.000000</td>\n",
       "      <td>5395.000000</td>\n",
       "    </tr>\n",
       "    <tr>\n",
       "      <th>25%</th>\n",
       "      <td>43503.500000</td>\n",
       "      <td>12993.500000</td>\n",
       "    </tr>\n",
       "    <tr>\n",
       "      <th>50%</th>\n",
       "      <td>80515.000000</td>\n",
       "      <td>20495.000000</td>\n",
       "    </tr>\n",
       "    <tr>\n",
       "      <th>75%</th>\n",
       "      <td>105113.500000</td>\n",
       "      <td>29432.500000</td>\n",
       "    </tr>\n",
       "    <tr>\n",
       "      <th>max</th>\n",
       "      <td>222135.000000</td>\n",
       "      <td>31998.000000</td>\n",
       "    </tr>\n",
       "  </tbody>\n",
       "</table>\n",
       "</div>"
      ],
      "text/plain": [
       "             mileage         price\n",
       "count      31.000000     31.000000\n",
       "mean    87123.483871  20553.516129\n",
       "std     55580.829691   8737.325013\n",
       "min     13635.000000   5395.000000\n",
       "25%     43503.500000  12993.500000\n",
       "50%     80515.000000  20495.000000\n",
       "75%    105113.500000  29432.500000\n",
       "max    222135.000000  31998.000000"
      ]
     },
     "execution_count": 89,
     "metadata": {},
     "output_type": "execute_result"
    }
   ],
   "source": [
    "# Create a Pandas dataframe from the data above.\n",
    "df = pd.DataFrame(data=data, columns=['year', 'mileage', 'price'])\n",
    "df.describe()"
   ]
  },
  {
   "cell_type": "code",
   "execution_count": 90,
   "metadata": {},
   "outputs": [
    {
     "data": {
      "text/html": [
       "<div>\n",
       "<style scoped>\n",
       "    .dataframe tbody tr th:only-of-type {\n",
       "        vertical-align: middle;\n",
       "    }\n",
       "\n",
       "    .dataframe tbody tr th {\n",
       "        vertical-align: top;\n",
       "    }\n",
       "\n",
       "    .dataframe thead th {\n",
       "        text-align: right;\n",
       "    }\n",
       "</style>\n",
       "<table border=\"1\" class=\"dataframe\">\n",
       "  <thead>\n",
       "    <tr style=\"text-align: right;\">\n",
       "      <th></th>\n",
       "      <th>mileage</th>\n",
       "      <th>price</th>\n",
       "      <th>year_2008</th>\n",
       "      <th>year_2010</th>\n",
       "      <th>year_2011</th>\n",
       "      <th>year_2012</th>\n",
       "      <th>year_2013</th>\n",
       "      <th>year_2015</th>\n",
       "      <th>year_2016</th>\n",
       "      <th>year_2017</th>\n",
       "      <th>year_2018</th>\n",
       "      <th>year_2019</th>\n",
       "      <th>year_2021</th>\n",
       "      <th>year_2022</th>\n",
       "    </tr>\n",
       "  </thead>\n",
       "  <tbody>\n",
       "    <tr>\n",
       "      <th>0</th>\n",
       "      <td>39529</td>\n",
       "      <td>29991</td>\n",
       "      <td>0</td>\n",
       "      <td>0</td>\n",
       "      <td>0</td>\n",
       "      <td>0</td>\n",
       "      <td>0</td>\n",
       "      <td>0</td>\n",
       "      <td>0</td>\n",
       "      <td>0</td>\n",
       "      <td>0</td>\n",
       "      <td>0</td>\n",
       "      <td>1</td>\n",
       "      <td>0</td>\n",
       "    </tr>\n",
       "    <tr>\n",
       "      <th>1</th>\n",
       "      <td>13635</td>\n",
       "      <td>31998</td>\n",
       "      <td>0</td>\n",
       "      <td>0</td>\n",
       "      <td>0</td>\n",
       "      <td>0</td>\n",
       "      <td>0</td>\n",
       "      <td>0</td>\n",
       "      <td>0</td>\n",
       "      <td>0</td>\n",
       "      <td>0</td>\n",
       "      <td>0</td>\n",
       "      <td>0</td>\n",
       "      <td>1</td>\n",
       "    </tr>\n",
       "    <tr>\n",
       "      <th>2</th>\n",
       "      <td>216853</td>\n",
       "      <td>5395</td>\n",
       "      <td>0</td>\n",
       "      <td>1</td>\n",
       "      <td>0</td>\n",
       "      <td>0</td>\n",
       "      <td>0</td>\n",
       "      <td>0</td>\n",
       "      <td>0</td>\n",
       "      <td>0</td>\n",
       "      <td>0</td>\n",
       "      <td>0</td>\n",
       "      <td>0</td>\n",
       "      <td>0</td>\n",
       "    </tr>\n",
       "    <tr>\n",
       "      <th>3</th>\n",
       "      <td>222135</td>\n",
       "      <td>6500</td>\n",
       "      <td>1</td>\n",
       "      <td>0</td>\n",
       "      <td>0</td>\n",
       "      <td>0</td>\n",
       "      <td>0</td>\n",
       "      <td>0</td>\n",
       "      <td>0</td>\n",
       "      <td>0</td>\n",
       "      <td>0</td>\n",
       "      <td>0</td>\n",
       "      <td>0</td>\n",
       "      <td>0</td>\n",
       "    </tr>\n",
       "    <tr>\n",
       "      <th>4</th>\n",
       "      <td>188654</td>\n",
       "      <td>7900</td>\n",
       "      <td>0</td>\n",
       "      <td>1</td>\n",
       "      <td>0</td>\n",
       "      <td>0</td>\n",
       "      <td>0</td>\n",
       "      <td>0</td>\n",
       "      <td>0</td>\n",
       "      <td>0</td>\n",
       "      <td>0</td>\n",
       "      <td>0</td>\n",
       "      <td>0</td>\n",
       "      <td>0</td>\n",
       "    </tr>\n",
       "  </tbody>\n",
       "</table>\n",
       "</div>"
      ],
      "text/plain": [
       "   mileage  price  year_2008  year_2010  year_2011  year_2012  year_2013  \\\n",
       "0    39529  29991          0          0          0          0          0   \n",
       "1    13635  31998          0          0          0          0          0   \n",
       "2   216853   5395          0          1          0          0          0   \n",
       "3   222135   6500          1          0          0          0          0   \n",
       "4   188654   7900          0          1          0          0          0   \n",
       "\n",
       "   year_2015  year_2016  year_2017  year_2018  year_2019  year_2021  year_2022  \n",
       "0          0          0          0          0          0          1          0  \n",
       "1          0          0          0          0          0          0          1  \n",
       "2          0          0          0          0          0          0          0  \n",
       "3          0          0          0          0          0          0          0  \n",
       "4          0          0          0          0          0          0          0  "
      ]
     },
     "execution_count": 90,
     "metadata": {},
     "output_type": "execute_result"
    }
   ],
   "source": [
    "# One-hot-encode the 'year' sicne this is a categorical predictor, not a numerical predictor. \n",
    "df2 = pd.get_dummies(df)\n",
    "df2.head()"
   ]
  },
  {
   "cell_type": "code",
   "execution_count": 100,
   "metadata": {},
   "outputs": [],
   "source": [
    "# Set up the matrix of predictors X and the target variable y vector.\n",
    "X = df2.drop(labels=['price'], axis=1).values\n",
    "y = df2['price'].values"
   ]
  },
  {
   "cell_type": "code",
   "execution_count": 101,
   "metadata": {},
   "outputs": [],
   "source": [
    "from sklearn.linear_model import LinearRegression\n",
    "# Fit the model.\n",
    "lr = LinearRegression()\n",
    "column_names = df2.columns.to_list()\n",
    "column_names.remove('price')\n",
    "lr.feature_names_in_ = column_names\n",
    "model = lr.fit(X, y)\n"
   ]
  },
  {
   "cell_type": "markdown",
   "metadata": {},
   "source": [
    "#### Fit the estimated prices (Y-hat) on the X-axis by the actual prices on the Y-axis."
   ]
  },
  {
   "cell_type": "code",
   "execution_count": 93,
   "metadata": {},
   "outputs": [
    {
     "data": {
      "image/png": "[encoded data removed]",
      "text/plain": [
       "<Figure size 432x288 with 1 Axes>"
      ]
     },
     "metadata": {
      "needs_background": "light"
     },
     "output_type": "display_data"
    }
   ],
   "source": [
    "yhat = model.predict(X)\n",
    "_ = sns.regplot(y=y, x=yhat)"
   ]
  },
  {
   "cell_type": "code",
   "execution_count": 110,
   "metadata": {},
   "outputs": [
    {
     "data": {
      "text/html": [
       "<div>\n",
       "<style scoped>\n",
       "    .dataframe tbody tr th:only-of-type {\n",
       "        vertical-align: middle;\n",
       "    }\n",
       "\n",
       "    .dataframe tbody tr th {\n",
       "        vertical-align: top;\n",
       "    }\n",
       "\n",
       "    .dataframe thead th {\n",
       "        text-align: right;\n",
       "    }\n",
       "</style>\n",
       "<table border=\"1\" class=\"dataframe\">\n",
       "  <thead>\n",
       "    <tr style=\"text-align: right;\">\n",
       "      <th></th>\n",
       "      <th>Coefficient (B)</th>\n",
       "      <th>Predictor (x)</th>\n",
       "    </tr>\n",
       "  </thead>\n",
       "  <tbody>\n",
       "    <tr>\n",
       "      <th>0</th>\n",
       "      <td>27622.871700</td>\n",
       "      <td>Y-intercept</td>\n",
       "    </tr>\n",
       "    <tr>\n",
       "      <th>1</th>\n",
       "      <td>-0.080954</td>\n",
       "      <td>mileage</td>\n",
       "    </tr>\n",
       "    <tr>\n",
       "      <th>2</th>\n",
       "      <td>-3140.112830</td>\n",
       "      <td>year_2008</td>\n",
       "    </tr>\n",
       "    <tr>\n",
       "      <th>3</th>\n",
       "      <td>-5529.427243</td>\n",
       "      <td>year_2010</td>\n",
       "    </tr>\n",
       "    <tr>\n",
       "      <th>4</th>\n",
       "      <td>-7109.845138</td>\n",
       "      <td>year_2011</td>\n",
       "    </tr>\n",
       "    <tr>\n",
       "      <th>5</th>\n",
       "      <td>-6581.597368</td>\n",
       "      <td>year_2012</td>\n",
       "    </tr>\n",
       "    <tr>\n",
       "      <th>6</th>\n",
       "      <td>-3580.372428</td>\n",
       "      <td>year_2013</td>\n",
       "    </tr>\n",
       "    <tr>\n",
       "      <th>7</th>\n",
       "      <td>-1150.851280</td>\n",
       "      <td>year_2015</td>\n",
       "    </tr>\n",
       "    <tr>\n",
       "      <th>8</th>\n",
       "      <td>437.639448</td>\n",
       "      <td>year_2016</td>\n",
       "    </tr>\n",
       "    <tr>\n",
       "      <th>9</th>\n",
       "      <td>5508.972853</td>\n",
       "      <td>year_2017</td>\n",
       "    </tr>\n",
       "    <tr>\n",
       "      <th>10</th>\n",
       "      <td>4495.189221</td>\n",
       "      <td>year_2018</td>\n",
       "    </tr>\n",
       "    <tr>\n",
       "      <th>11</th>\n",
       "      <td>5400.265357</td>\n",
       "      <td>year_2019</td>\n",
       "    </tr>\n",
       "    <tr>\n",
       "      <th>12</th>\n",
       "      <td>5771.200735</td>\n",
       "      <td>year_2021</td>\n",
       "    </tr>\n",
       "    <tr>\n",
       "      <th>13</th>\n",
       "      <td>5478.938673</td>\n",
       "      <td>year_2022</td>\n",
       "    </tr>\n",
       "  </tbody>\n",
       "</table>\n",
       "</div>"
      ],
      "text/plain": [
       "    Coefficient (B) Predictor (x)\n",
       "0      27622.871700   Y-intercept\n",
       "1         -0.080954       mileage\n",
       "2      -3140.112830     year_2008\n",
       "3      -5529.427243     year_2010\n",
       "4      -7109.845138     year_2011\n",
       "5      -6581.597368     year_2012\n",
       "6      -3580.372428     year_2013\n",
       "7      -1150.851280     year_2015\n",
       "8        437.639448     year_2016\n",
       "9       5508.972853     year_2017\n",
       "10      4495.189221     year_2018\n",
       "11      5400.265357     year_2019\n",
       "12      5771.200735     year_2021\n",
       "13      5478.938673     year_2022"
      ]
     },
     "metadata": {},
     "output_type": "display_data"
    }
   ],
   "source": [
    "# What are the coefficients for each predictor?\n",
    "coefficients = [(model.intercept_, 'Y-intercept')]\n",
    "for coeff, x in zip(model.coef_, column_names):\n",
    "    coefficients.append((coeff, x))\n",
    "    \n",
    "df_est = pd.DataFrame(data=coefficients, columns=['Coefficient (B)', 'Predictor (x)'])\n",
    "display(df_est)"
   ]
  },
  {
   "cell_type": "markdown",
   "metadata": {},
   "source": [
    "We can see from the table above that 'mileage' has a coefficient of -0.081. This means that for every one-unit increase in mileage translates to a -0.081 decrease in value. For example, of the mileage is 110,000, we multiply this to get (-0.081)(110,000) = -8,910.\n",
    "\n",
    "The complete linear formula is:\n",
    "```\n",
    "Y-hat = B0 + B1X1 + B2X2 + B3X3 + ..., BiXi\n",
    "```\n",
    "Where *e* are the errors and B0 is the y-intercept."
   ]
  },
  {
   "cell_type": "code",
   "execution_count": 111,
   "metadata": {},
   "outputs": [
    {
     "data": {
      "image/png": "[encoded data removed]",
      "text/plain": [
       "<Figure size 432x288 with 1 Axes>"
      ]
     },
     "metadata": {
      "needs_background": "light"
     },
     "output_type": "display_data"
    }
   ],
   "source": [
    "_ = df_est.plot.bar()"
   ]
  },
  {
   "cell_type": "code",
   "execution_count": 94,
   "metadata": {},
   "outputs": [
    {
     "name": "stdout",
     "output_type": "stream",
     "text": [
      "\n",
      "R^2 (R-squared): 0.981889\n",
      "MAE (Mean Absolute Error): 844.799714\n",
      "RMSE (Root Mean Squared Error): 1338034.411084\n",
      "\n"
     ]
    }
   ],
   "source": [
    "from sklearn.metrics import r2_score, mean_absolute_error, mean_squared_error\n",
    "stats = \"\"\"\n",
    "R^2 (R-squared): %f\n",
    "MAE (Mean Absolute Error): %f\n",
    "RMSE (Root Mean Squared Error): %f\n",
    "\"\"\" % (model.score(X,y), mean_absolute_error(y, yhat), mean_squared_error(y, yhat))\n",
    "print(stats)"
   ]
  },
  {
   "cell_type": "markdown",
   "metadata": {},
   "source": [
    "### Validate the Model\n",
    "The assumptions of OLS (Ordinary Least Squares) dicates that residuals (errors) must not be correlated, have a mean of about zero, nor can they be correlated with the predicted values. If we plot the errors by the predicted values, there should be not pattern apparent. It should resemble random noise. This is referred to *constance variance* and officially called *homoskedasticity*.\n",
    "\n",
    "We typically *standardize* error terms by dividing the difference of the observed and expected values \n",
    "by the square root of the expected value.\n",
    "\n",
    "If the plot shows any curvature, a triangle shape - meaning increasing variance from left to roght, we must log-transform either a numerical predictor, the target variable, or both, to achieve constant variance."
   ]
  },
  {
   "cell_type": "code",
   "execution_count": 95,
   "metadata": {},
   "outputs": [
    {
     "data": {
      "image/png": "[encoded data removed]",
      "text/plain": [
       "<Figure size 432x288 with 1 Axes>"
      ]
     },
     "metadata": {
      "needs_background": "light"
     },
     "output_type": "display_data"
    }
   ],
   "source": [
    "# The scatter plot shows constant variance in the residuals. The model is valid.\n",
    "resid = np.absolute(y - yhat)\n",
    "std_resid = resid / np.sqrt(yhat)\n",
    "_ = sns.scatterplot(y=std_resid, x=yhat)"
   ]
  },
  {
   "cell_type": "markdown",
   "metadata": {},
   "source": [
    "### What is the estimated worth of my Prius?"
   ]
  },
  {
   "cell_type": "code",
   "execution_count": 96,
   "metadata": {},
   "outputs": [
    {
     "name": "stdout",
     "output_type": "stream",
     "text": [
      "My car's estimated worth: $15,521\n"
     ]
    }
   ],
   "source": [
    "my_mileage = [110700]\n",
    "my_year = [1,0,0,0,0,0,0,0,0,0,0,0]\n",
    "my_car_data = my_mileage + my_year\n",
    "val_x = [my_car_data]\n",
    "my_car_worth = model.predict(val_x)\n",
    "print(f\"My car's estimated worth: ${my_car_worth[0]:,.0f}\")"
   ]
  }
 ],
 "metadata": {
  "kernelspec": {
   "display_name": "Python 3.9.7 ('base')",
   "language": "python",
   "name": "python3"
  },
  "language_info": {
   "codemirror_mode": {
    "name": "ipython",
    "version": 3
   },
   "file_extension": ".py",
   "mimetype": "text/x-python",
   "name": "python",
   "nbconvert_exporter": "python",
   "pygments_lexer": "ipython3",
   "version": "3.9.7"
  },
  "orig_nbformat": 4,
  "vscode": {
   "interpreter": {
    "hash": "7fb6fca1b89ac7a9e9be2d6bf952e381aacc34327f8914deb7863efbbdbf3caa"
   }
  }
 },
 "nbformat": 4,
 "nbformat_minor": 2
}
